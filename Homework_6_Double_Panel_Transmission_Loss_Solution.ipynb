{
  "nbformat": 4,
  "nbformat_minor": 0,
  "metadata": {
    "colab": {
      "provenance": [],
      "collapsed_sections": [],
      "include_colab_link": true
    },
    "kernelspec": {
      "name": "python3",
      "display_name": "Python 3"
    },
    "language_info": {
      "name": "python"
    }
  },
  "cells": [
    {
      "cell_type": "markdown",
      "metadata": {
        "id": "view-in-github",
        "colab_type": "text"
      },
      "source": [
        "<a href=\"https://colab.research.google.com/github/dasyncopator/ECE-363N-ME-379N-Engineering-Acoustics/blob/main/Homework_6_Double_Panel_Transmission_Loss_Solution.ipynb\" target=\"_parent\"><img src=\"https://colab.research.google.com/assets/colab-badge.svg\" alt=\"Open In Colab\"/></a>"
      ]
    },
    {
      "cell_type": "code",
      "source": [
        "import numpy as np\n",
        "import matplotlib.pyplot as plt"
      ],
      "metadata": {
        "id": "c0BHiDBUx4AK"
      },
      "execution_count": 1,
      "outputs": []
    },
    {
      "cell_type": "code",
      "source": [
        "pi = np.pi\n",
        "rho = 1.225 # Atmospheric air density (kg/m^3)\n",
        "c = 343 # Sound speed, air (m/s)\n",
        "z = rho*c # Impedance\n",
        "m1 = 12 # Linear density, left wall (kg/m)\n",
        "m2 = 12 # Linear density, right wall (kg/m)\n",
        "L = 0.01 # Gap between walls (m)\n",
        "P_plus = 1 # Incident pressure on left wall"
      ],
      "metadata": {
        "id": "M7ioYjzQR2EK"
      },
      "execution_count": 2,
      "outputs": []
    },
    {
      "cell_type": "code",
      "source": [
        "n = 10000 # Number of calculations/frequencies to test\n",
        "f = np.linspace(20, 20e3, n) # Frequencies from 20 Hz to 20 kHz\n",
        "\n",
        "# Create function that solves for and returns p_tr_i for a single frequency f_i\n",
        "def solve_P_tr_i(f_i):\n",
        "  # Define omega\n",
        "  w_i = 2*pi*f_i\n",
        "\n",
        "  # Construct matrix A(w_i); for complex values, use the complex() function built-in with Python.\n",
        "  A = np.array([[1, 0, 0, 0, -1],\n",
        "                [0, 1, 0, 0, -1], \n",
        "                [0, 0, 0, 0, 1], \n",
        "                [0, 0, 0, -1, 0], \n",
        "                [0, 0, 1, 0, 0]], dtype=np.complex_)\n",
        "  A[0, 2] = complex(0, -(w_i*m1))\n",
        "  A[1, 3] = complex(0, (w_i*m2))\n",
        "  A[2, 2] = complex(0, ((z*c)/(w_i*L)))\n",
        "  A[2, 3] = complex(0, -((z*c)/(w_i*L)))\n",
        "  A[3, 1] = 1/z\n",
        "  A[4, 0] = 1/z\n",
        "\n",
        "  # Construct vector b\n",
        "  b = np.array([-P_plus, 0, 0, 0, P_plus/z])\n",
        "\n",
        "  # Solve for x_i\n",
        "  x_i = np.linalg.solve(A, b)\n",
        "\n",
        "  # Find P_tr_i\n",
        "  P_tr_i = x_i[1]\n",
        "\n",
        "  return P_tr_i\n",
        "\n",
        "# Create function that allows input of 1D vector of frequencies into the function above rather than a single frequency using np.vectorize()\n",
        "vect_P_tr_i = np.vectorize(solve_P_tr_i) \n",
        "\n",
        "# Create a vector containing all p_tr_i values\n",
        "P_tr = vect_P_tr_i(f)\n",
        "\n",
        "# Create vector containing all TL values\n",
        "TL = 20*np.log10(P_plus/P_tr)\n",
        "\n",
        "# Plot results\n",
        "plt.plot(f, TL)\n",
        "plt.title('Transmission Loss Through a Double Wall')\n",
        "plt.xscale('log')\n",
        "plt.xlabel('Frequency [Hz]')\n",
        "plt.ylabel('Transmission Loss [dB]')\n",
        "plt.rcParams[\"figure.figsize\"] = (6,5)\n",
        "plt.grid()"
      ],
      "metadata": {
        "id": "rmv26TKtUeyR",
        "colab": {
          "base_uri": "https://localhost:8080/",
          "height": 334
        },
        "outputId": "0e4a9443-c93d-4774-9bc2-688ef0eb4b31"
      },
      "execution_count": 3,
      "outputs": [
        {
          "output_type": "stream",
          "name": "stderr",
          "text": [
            "/usr/local/lib/python3.7/dist-packages/matplotlib/cbook/__init__.py:1317: ComplexWarning: Casting complex values to real discards the imaginary part\n",
            "  return np.asarray(x, float)\n"
          ]
        },
        {
          "output_type": "display_data",
          "data": {
            "text/plain": [
              "<Figure size 432x288 with 1 Axes>"
            ],
            "image/png": "[encoded data removed]"
          },
          "metadata": {
            "needs_background": "light"
          }
        }
      ]
    }
  ]
}